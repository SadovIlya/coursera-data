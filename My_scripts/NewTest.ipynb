{
 "cells": [
  {
   "cell_type": "code",
   "execution_count": 2,
   "metadata": {},
   "outputs": [],
   "source": [
    "import pandas as pd"
   ]
  },
  {
   "cell_type": "code",
   "execution_count": 3,
   "metadata": {},
   "outputs": [],
   "source": [
    "frame = pd.read_csv('sites.csv', header=None, sep=',')"
   ]
  },
  {
   "cell_type": "code",
   "execution_count": 9,
   "metadata": {},
   "outputs": [],
   "source": [
    "frame.drop([4], axis=1, inplace=True)"
   ]
  },
  {
   "cell_type": "code",
   "execution_count": 16,
   "metadata": {},
   "outputs": [
    {
     "data": {
      "text/html": [
       "<div>\n",
       "<style scoped>\n",
       "    .dataframe tbody tr th:only-of-type {\n",
       "        vertical-align: middle;\n",
       "    }\n",
       "\n",
       "    .dataframe tbody tr th {\n",
       "        vertical-align: top;\n",
       "    }\n",
       "\n",
       "    .dataframe thead th {\n",
       "        text-align: right;\n",
       "    }\n",
       "</style>\n",
       "<table border=\"1\" class=\"dataframe\">\n",
       "  <thead>\n",
       "    <tr style=\"text-align: right;\">\n",
       "      <th></th>\n",
       "      <th>1</th>\n",
       "    </tr>\n",
       "  </thead>\n",
       "  <tbody>\n",
       "    <tr>\n",
       "      <th>0</th>\n",
       "      <td>facebook.com</td>\n",
       "    </tr>\n",
       "    <tr>\n",
       "      <th>1</th>\n",
       "      <td>yahoo.com</td>\n",
       "    </tr>\n",
       "    <tr>\n",
       "      <th>2</th>\n",
       "      <td>live.com</td>\n",
       "    </tr>\n",
       "    <tr>\n",
       "      <th>3</th>\n",
       "      <td>wikipedia.org</td>\n",
       "    </tr>\n",
       "    <tr>\n",
       "      <th>4</th>\n",
       "      <td>msn.com</td>\n",
       "    </tr>\n",
       "    <tr>\n",
       "      <th>...</th>\n",
       "      <td>...</td>\n",
       "    </tr>\n",
       "    <tr>\n",
       "      <th>995</th>\n",
       "      <td>fx120.net</td>\n",
       "    </tr>\n",
       "    <tr>\n",
       "      <th>996</th>\n",
       "      <td>ntv.co.jp</td>\n",
       "    </tr>\n",
       "    <tr>\n",
       "      <th>997</th>\n",
       "      <td>meinvz.net</td>\n",
       "    </tr>\n",
       "    <tr>\n",
       "      <th>998</th>\n",
       "      <td>king.com</td>\n",
       "    </tr>\n",
       "    <tr>\n",
       "      <th>999</th>\n",
       "      <td>virginmedia.com</td>\n",
       "    </tr>\n",
       "  </tbody>\n",
       "</table>\n",
       "<p>1000 rows × 1 columns</p>\n",
       "</div>"
      ],
      "text/plain": [
       "                   1\n",
       "0       facebook.com\n",
       "1          yahoo.com\n",
       "2           live.com\n",
       "3      wikipedia.org\n",
       "4            msn.com\n",
       "..               ...\n",
       "995        fx120.net\n",
       "996        ntv.co.jp\n",
       "997       meinvz.net\n",
       "998         king.com\n",
       "999  virginmedia.com\n",
       "\n",
       "[1000 rows x 1 columns]"
      ]
     },
     "execution_count": 16,
     "metadata": {},
     "output_type": "execute_result"
    }
   ],
   "source": [
    "frame"
   ]
  },
  {
   "cell_type": "code",
   "execution_count": 21,
   "metadata": {},
   "outputs": [
    {
     "name": "stdout",
     "output_type": "stream",
     "text": [
      "Server:\t\t172.16.1.42\r\n",
      "Address:\t172.16.1.42#53\r\n",
      "\r\n",
      "** server can't find {site}: SERVFAIL\r\n",
      "\r\n"
     ]
    }
   ],
   "source": [
    "!nslookup {site} 172.16.1.42"
   ]
  },
  {
   "cell_type": "code",
   "execution_count": 22,
   "metadata": {},
   "outputs": [
    {
     "data": {
      "text/plain": [
       "0         facebook.com\n",
       "1            yahoo.com\n",
       "2             live.com\n",
       "3        wikipedia.org\n",
       "4              msn.com\n",
       "            ...       \n",
       "995          fx120.net\n",
       "996          ntv.co.jp\n",
       "997         meinvz.net\n",
       "998           king.com\n",
       "999    virginmedia.com\n",
       "Name: 1, Length: 1000, dtype: object"
      ]
     },
     "execution_count": 22,
     "metadata": {},
     "output_type": "execute_result"
    }
   ],
   "source": [
    "frame[1]"
   ]
  },
  {
   "cell_type": "code",
   "execution_count": 25,
   "metadata": {},
   "outputs": [
    {
     "data": {
      "text/html": [
       "<div>\n",
       "<style scoped>\n",
       "    .dataframe tbody tr th:only-of-type {\n",
       "        vertical-align: middle;\n",
       "    }\n",
       "\n",
       "    .dataframe tbody tr th {\n",
       "        vertical-align: top;\n",
       "    }\n",
       "\n",
       "    .dataframe thead th {\n",
       "        text-align: right;\n",
       "    }\n",
       "</style>\n",
       "<table border=\"1\" class=\"dataframe\">\n",
       "  <thead>\n",
       "    <tr style=\"text-align: right;\">\n",
       "      <th></th>\n",
       "      <th>1</th>\n",
       "    </tr>\n",
       "  </thead>\n",
       "  <tbody>\n",
       "    <tr>\n",
       "      <th>1</th>\n",
       "      <td>yahoo.com</td>\n",
       "    </tr>\n",
       "  </tbody>\n",
       "</table>\n",
       "</div>"
      ],
      "text/plain": [
       "           1\n",
       "1  yahoo.com"
      ]
     },
     "execution_count": 25,
     "metadata": {},
     "output_type": "execute_result"
    }
   ],
   "source": [
    "frame.iloc[[1], [0]]"
   ]
  },
  {
   "cell_type": "code",
   "execution_count": 26,
   "metadata": {},
   "outputs": [
    {
     "name": "stdout",
     "output_type": "stream",
     "text": [
      "           1\n",
      "1  yahoo.com\n"
     ]
    }
   ],
   "source": [
    "print(frame.iloc[[1], [0]])"
   ]
  },
  {
   "cell_type": "code",
   "execution_count": 27,
   "metadata": {},
   "outputs": [
    {
     "data": {
      "text/plain": [
       "1    facebook.com\n",
       "Name: 0, dtype: object"
      ]
     },
     "execution_count": 27,
     "metadata": {},
     "output_type": "execute_result"
    }
   ],
   "source": [
    "frame.iloc[0].head(1)"
   ]
  },
  {
   "cell_type": "code",
   "execution_count": 29,
   "metadata": {},
   "outputs": [
    {
     "name": "stdout",
     "output_type": "stream",
     "text": [
      "1    facebook.com\n",
      "Name: 0, dtype: object\n"
     ]
    }
   ],
   "source": [
    "print(frame.loc[0].head(1))"
   ]
  },
  {
   "cell_type": "code",
   "execution_count": 30,
   "metadata": {},
   "outputs": [
    {
     "data": {
      "text/html": [
       "<div>\n",
       "<style scoped>\n",
       "    .dataframe tbody tr th:only-of-type {\n",
       "        vertical-align: middle;\n",
       "    }\n",
       "\n",
       "    .dataframe tbody tr th {\n",
       "        vertical-align: top;\n",
       "    }\n",
       "\n",
       "    .dataframe thead th {\n",
       "        text-align: right;\n",
       "    }\n",
       "</style>\n",
       "<table border=\"1\" class=\"dataframe\">\n",
       "  <thead>\n",
       "    <tr style=\"text-align: right;\">\n",
       "      <th></th>\n",
       "      <th>1</th>\n",
       "    </tr>\n",
       "  </thead>\n",
       "  <tbody>\n",
       "    <tr>\n",
       "      <th>0</th>\n",
       "      <td>facebook.com</td>\n",
       "    </tr>\n",
       "    <tr>\n",
       "      <th>1</th>\n",
       "      <td>yahoo.com</td>\n",
       "    </tr>\n",
       "    <tr>\n",
       "      <th>2</th>\n",
       "      <td>live.com</td>\n",
       "    </tr>\n",
       "  </tbody>\n",
       "</table>\n",
       "</div>"
      ],
      "text/plain": [
       "              1\n",
       "0  facebook.com\n",
       "1     yahoo.com\n",
       "2      live.com"
      ]
     },
     "execution_count": 30,
     "metadata": {},
     "output_type": "execute_result"
    }
   ],
   "source": [
    "frame[:3]"
   ]
  },
  {
   "cell_type": "code",
   "execution_count": 33,
   "metadata": {},
   "outputs": [
    {
     "data": {
      "text/plain": [
       "0         facebook.com\n",
       "1            yahoo.com\n",
       "2             live.com\n",
       "3        wikipedia.org\n",
       "4              msn.com\n",
       "            ...       \n",
       "995          fx120.net\n",
       "996          ntv.co.jp\n",
       "997         meinvz.net\n",
       "998           king.com\n",
       "999    virginmedia.com\n",
       "Name: 1, Length: 1000, dtype: object"
      ]
     },
     "execution_count": 33,
     "metadata": {},
     "output_type": "execute_result"
    }
   ],
   "source": [
    "frame[1]"
   ]
  },
  {
   "cell_type": "code",
   "execution_count": 40,
   "metadata": {},
   "outputs": [
    {
     "data": {
      "text/plain": [
       "'yahoo.com'"
      ]
     },
     "execution_count": 40,
     "metadata": {},
     "output_type": "execute_result"
    }
   ],
   "source": [
    "frame[1].iloc[1]"
   ]
  },
  {
   "cell_type": "code",
   "execution_count": 43,
   "metadata": {},
   "outputs": [
    {
     "name": "stdout",
     "output_type": "stream",
     "text": [
      "live.com\n"
     ]
    }
   ],
   "source": [
    "print(frame[1].iloc[2])"
   ]
  },
  {
   "cell_type": "code",
   "execution_count": 64,
   "metadata": {},
   "outputs": [
    {
     "name": "stdout",
     "output_type": "stream",
     "text": [
      "Server:\t\t172.16.1.42\n",
      "Address:\t172.16.1.42#53\n",
      "\n",
      "Non-authoritative answer:\n",
      "Name:\tsquidoo.com\n",
      "Address: 34.192.61.242\n",
      "Name:\tsquidoo.com\n",
      "Address: 34.199.203.181\n",
      "\n",
      "Server:\t\t172.16.1.42\n",
      "Address:\t172.16.1.42#53\n",
      "\n",
      "Non-authoritative answer:\n",
      "Name:\tteacup.com\n",
      "Address: 52.194.40.18\n",
      "Name:\tteacup.com\n",
      "Address: 13.113.207.176\n",
      "\n",
      "Server:\t\t172.16.1.42\n",
      "Address:\t172.16.1.42#53\n",
      "\n",
      "Non-authoritative answer:\n",
      "*** Can't find windowslive.com: No answer\n",
      "\n",
      "Server:\t\t172.16.1.42\n",
      "Address:\t172.16.1.42#53\n",
      "\n",
      "Non-authoritative answer:\n",
      "Name:\taddictinggames.com\n",
      "Address: 104.22.2.109\n",
      "Name:\taddictinggames.com\n",
      "Address: 104.22.3.109\n",
      "Name:\taddictinggames.com\n",
      "Address: 172.67.4.39\n",
      "Name:\taddictinggames.com\n",
      "Address: 2606:4700:10::6816:36d\n",
      "Name:\taddictinggames.com\n",
      "Address: 2606:4700:10::6816:26d\n",
      "Name:\taddictinggames.com\n",
      "Address: 2606:4700:10::ac43:427\n",
      "\n",
      "Server:\t\t172.16.1.42\n",
      "Address:\t172.16.1.42#53\n",
      "\n",
      "Non-authoritative answer:\n",
      "Name:\tfilehippo.com\n",
      "Address: 35.186.241.3\n",
      "\n",
      "Server:\t\t172.16.1.42\n",
      "Address:\t172.16.1.42#53\n",
      "\n",
      "Non-authoritative answer:\n",
      "Name:\tsdo.com\n",
      "Address: 114.80.132.70\n",
      "\n",
      "Server:\t\t172.16.1.42\n",
      "Address:\t172.16.1.42#53\n",
      "\n",
      "Non-authoritative answer:\n",
      "*** Can't find shld.net: No answer\n",
      "\n",
      "Server:\t\t172.16.1.42\n",
      "Address:\t172.16.1.42#53\n",
      "\n",
      "Non-authoritative answer:\n",
      "Name:\tustream.tv\n",
      "Address: 169.45.159.66\n",
      "Name:\tustream.tv\n",
      "Address: 169.44.146.80\n",
      "Name:\tustream.tv\n",
      "Address: 169.45.159.67\n",
      "Name:\tustream.tv\n",
      "Address: 169.44.146.79\n",
      "\n",
      "Server:\t\t172.16.1.42\n",
      "Address:\t172.16.1.42#53\n",
      "\n",
      "Non-authoritative answer:\n",
      "Name:\ttistory.com\n",
      "Address: 121.53.105.234\n",
      "\n",
      "Server:\t\t172.16.1.42\n",
      "Address:\t172.16.1.42#53\n",
      "\n",
      "Non-authoritative answer:\n",
      "Name:\t115.com\n",
      "Address: 119.23.87.59\n",
      "\n",
      "Server:\t\t172.16.1.42\n",
      "Address:\t172.16.1.42#53\n",
      "\n",
      "Non-authoritative answer:\n",
      "Name:\tliutilities.com\n",
      "Address: 104.21.57.136\n",
      "Name:\tliutilities.com\n",
      "Address: 172.67.164.19\n",
      "Name:\tliutilities.com\n",
      "Address: 2606:4700:3035::ac43:a413\n",
      "Name:\tliutilities.com\n",
      "Address: 2606:4700:3033::6815:3988\n",
      "\n",
      "Server:\t\t172.16.1.42\n",
      "Address:\t172.16.1.42#53\n",
      "\n",
      "Non-authoritative answer:\n",
      "Name:\tjalan.net\n",
      "Address: 160.17.5.13\n",
      "\n",
      "Server:\t\t172.16.1.42\n",
      "Address:\t172.16.1.42#53\n",
      "\n",
      "Non-authoritative answer:\n",
      "Name:\twebs.com\n",
      "Address: 104.17.119.40\n",
      "Name:\twebs.com\n",
      "Address: 104.16.140.31\n",
      "Name:\twebs.com\n",
      "Address: 2606:4700::6810:8c1f\n",
      "Name:\twebs.com\n",
      "Address: 2606:4700::6811:7728\n",
      "\n",
      "Server:\t\t172.16.1.42\n",
      "Address:\t172.16.1.42#53\n",
      "\n",
      "Non-authoritative answer:\n",
      "Name:\tnaqigs.com\n",
      "Address: 154.92.177.220\n",
      "\n",
      "Server:\t\t172.16.1.42\n",
      "Address:\t172.16.1.42#53\n",
      "\n",
      "Non-authoritative answer:\n",
      "*** Can't find ccb.com.cn: No answer\n",
      "\n",
      "Server:\t\t172.16.1.42\n",
      "Address:\t172.16.1.42#53\n",
      "\n",
      "Non-authoritative answer:\n",
      "Name:\tit168.com\n",
      "Address: 42.62.98.171\n",
      "\n",
      "Server:\t\t172.16.1.42\n",
      "Address:\t172.16.1.42#53\n",
      "\n",
      "Non-authoritative answer:\n",
      "Name:\tetology.com\n",
      "Address: 209.239.166.12\n",
      "\n",
      "Server:\t\t172.16.1.42\n",
      "Address:\t172.16.1.42#53\n",
      "\n",
      "Non-authoritative answer:\n",
      "Name:\teveresttech.net\n",
      "Address: 208.91.169.4\n",
      "\n",
      "Server:\t\t172.16.1.42\n",
      "Address:\t172.16.1.42#53\n",
      "\n",
      "Non-authoritative answer:\n",
      "Name:\tintelius.com\n",
      "Address: 104.18.17.16\n",
      "Name:\tintelius.com\n",
      "Address: 104.18.16.16\n",
      "Name:\tintelius.com\n",
      "Address: 2606:4700::6812:1110\n",
      "Name:\tintelius.com\n",
      "Address: 2606:4700::6812:1010\n",
      "\n",
      "Server:\t\t172.16.1.42\n",
      "Address:\t172.16.1.42#53\n",
      "\n",
      "Non-authoritative answer:\n",
      "Name:\tsina.com\n",
      "Address: 66.102.251.24\n",
      "\n"
     ]
    }
   ],
   "source": [
    "a = 400\n",
    "for element in range(20):\n",
    "    a += 1\n",
    "    !nslookup {frame[1].iloc[a]} 172.16.1.42"
   ]
  },
  {
   "cell_type": "code",
   "execution_count": null,
   "metadata": {},
   "outputs": [],
   "source": []
  }
 ],
 "metadata": {
  "kernelspec": {
   "display_name": "Python 3",
   "language": "python",
   "name": "python3"
  },
  "language_info": {
   "codemirror_mode": {
    "name": "ipython",
    "version": 3
   },
   "file_extension": ".py",
   "mimetype": "text/x-python",
   "name": "python",
   "nbconvert_exporter": "python",
   "pygments_lexer": "ipython3",
   "version": "3.8.5"
  }
 },
 "nbformat": 4,
 "nbformat_minor": 4
}
